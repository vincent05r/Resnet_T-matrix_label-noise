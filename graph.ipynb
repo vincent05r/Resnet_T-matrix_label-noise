{
 "cells": [
  {
   "cell_type": "markdown",
   "id": "69aa6db9-976f-4220-baab-4d6aa7dd0976",
   "metadata": {},
   "source": [
    "# RESNET18 FMN0.5 train with given T"
   ]
  },
  {
   "cell_type": "code",
   "execution_count": 4,
   "id": "04f288cb-bdc6-4b96-abd0-4827d0f0be9f",
   "metadata": {},
   "outputs": [],
   "source": [
    "import csv\n",
    "import numpy as np\n",
    "import matplotlib.pyplot as plt"
   ]
  },
  {
   "cell_type": "code",
   "execution_count": 5,
   "id": "ca8940dc-a38f-4279-96f4-e09ff457a3a7",
   "metadata": {},
   "outputs": [],
   "source": [
    "def extract_data(file_path):\n",
    "    epoch = []\n",
    "    training_acc = [] \n",
    "    validation_acc = []\n",
    "    test_acc = []\n",
    "\n",
    "    with open(file_path) as f:\n",
    "        reader = csv.reader(f)\n",
    "        highest_acc = 0\n",
    "        for row in reader:\n",
    "            if row[0] == 'Epoch':\n",
    "                epoch.append(row[1])\n",
    "            elif row[0] == 'Training data : ':\n",
    "                training_acc.append(row[4])\n",
    "            elif row[0] == 'Val data : ':\n",
    "                validation_acc.append(row[4])\n",
    "            else:\n",
    "                test_acc.append(row[4])\n",
    "    return [epoch,training_acc,validation_acc,test_acc]"
   ]
  },
  {
   "cell_type": "code",
   "execution_count": 7,
   "id": "40b3cb98-bd8f-4fb7-97fd-de6e9c06bb45",
   "metadata": {},
   "outputs": [],
   "source": [
    "training_acc_all = []\n",
    "validation_acc_all = []\n",
    "test_acc_all = []\n",
    "for i in range(1,11):\n",
    "    file_path = r\"F:\\program repo\\COMP5328\\log\\cifar\\Version_RESNET18_10f_25_50_no_norm_T_best\\Iteration_{0}\\real_model_log.csv\".format(i)\n",
    "    epoch,training_acc,validation_acc,test_acc = extract_data(file_path)\n",
    "    training_acc_all.append(training_acc)\n",
    "    validation_acc_all.append(validation_acc)\n",
    "    test_acc_all.append(test_acc)"
   ]
  },
  {
   "cell_type": "code",
   "execution_count": 14,
   "id": "a45da0d4-9918-43ab-8fb8-0a855c9d2d01",
   "metadata": {},
   "outputs": [],
   "source": [
    "def all_to_mean(data):\n",
    "    data = np.array(data)\n",
    "    data = data.astype(np.float)\n",
    "    result = []\n",
    "    for i in range(50):\n",
    "        result.append(data[:,i].mean())\n",
    "    return np.array(result)"
   ]
  },
  {
   "cell_type": "code",
   "execution_count": null,
   "id": "779198c2",
   "metadata": {},
   "outputs": [],
   "source": [
    "print(training_acc_all)"
   ]
  },
  {
   "cell_type": "code",
   "execution_count": 15,
   "id": "90b807b8-0b3e-415e-aaa8-160da48a5012",
   "metadata": {},
   "outputs": [
    {
     "name": "stderr",
     "output_type": "stream",
     "text": [
      "C:\\Users\\Vincent\\AppData\\Local\\Temp\\ipykernel_25388\\682711386.py:3: DeprecationWarning: `np.float` is a deprecated alias for the builtin `float`. To silence this warning, use `float` by itself. Doing this will not modify any behavior and is safe. If you specifically wanted the numpy scalar type, use `np.float64` here.\n",
      "Deprecated in NumPy 1.20; for more details and guidance: https://numpy.org/devdocs/release/1.20.0-notes.html#deprecations\n",
      "  data = data.astype(np.float)\n"
     ]
    }
   ],
   "source": [
    "\n",
    "training_acc_mean = all_to_mean(training_acc_all)\n",
    "\n",
    "validation_acc_mean = all_to_mean(validation_acc_all)\n",
    "\n",
    "test_acc_mean = all_to_mean(test_acc_all)"
   ]
  },
  {
   "cell_type": "code",
   "execution_count": 16,
   "id": "75911ad5-f1ad-493d-8e0d-1a1a3338b270",
   "metadata": {},
   "outputs": [
    {
     "name": "stdout",
     "output_type": "stream",
     "text": [
      "[0.34539167 0.35808333 0.36354167 0.36560833 0.37421667 0.37816667\n",
      " 0.38421667 0.384825   0.38655    0.388525   0.38685    0.38993333\n",
      " 0.3879     0.38984167 0.38915    0.39003333 0.3911     0.39003333\n",
      " 0.39045    0.38986667 0.38838333 0.38971667 0.39065    0.38955833\n",
      " 0.38961667 0.39003333 0.389625   0.39010833 0.38970833 0.38966667\n",
      " 0.39021667 0.39133333 0.38936667 0.389725   0.38904167 0.39093333\n",
      " 0.39036667 0.39058333 0.38991667 0.391025   0.38953333 0.39165833\n",
      " 0.38943333 0.3904     0.38919167 0.39110833 0.39039167 0.38944167\n",
      " 0.38929167 0.38953333]\n"
     ]
    }
   ],
   "source": [
    "print(training_acc_mean)"
   ]
  },
  {
   "cell_type": "code",
   "execution_count": 17,
   "id": "64a7f618-9437-4a4d-a39b-71c16c40d5be",
   "metadata": {},
   "outputs": [
    {
     "name": "stderr",
     "output_type": "stream",
     "text": [
      "C:\\Users\\Vincent\\AppData\\Local\\Temp\\ipykernel_25388\\1451314746.py:2: DeprecationWarning: `np.float` is a deprecated alias for the builtin `float`. To silence this warning, use `float` by itself. Doing this will not modify any behavior and is safe. If you specifically wanted the numpy scalar type, use `np.float64` here.\n",
      "Deprecated in NumPy 1.20; for more details and guidance: https://numpy.org/devdocs/release/1.20.0-notes.html#deprecations\n",
      "  epoch= epoch.astype(np.float)\n"
     ]
    }
   ],
   "source": [
    "epoch = np.array(epoch)\n",
    "epoch= epoch.astype(np.float)"
   ]
  },
  {
   "cell_type": "markdown",
   "id": "1e8a7abb-348e-496e-8c07-c888dd072a43",
   "metadata": {},
   "source": [
    "# RESNET34 training result"
   ]
  },
  {
   "cell_type": "code",
   "execution_count": 19,
   "id": "a8ef0944-b0ef-4d20-b397-730e823c2749",
   "metadata": {
    "tags": []
   },
   "outputs": [],
   "source": [
    "r34_training_acc_all = []\n",
    "r34_validation_acc_all = []\n",
    "r34_test_acc_all = []\n",
    "for i in range(1,11):\n",
    "    file_path = r\"F:\\program repo\\COMP5328\\log\\cifar\\Version_RESNET34T_cnnest_10f_25_70_higher_lr\\Iteration_{0}\\real_model_log.csv\".format(i)\n",
    "    epoch,training_acc,validation_acc,test_acc = extract_data(file_path)\n",
    "    r34_training_acc_all.append(training_acc)\n",
    "    r34_validation_acc_all.append(validation_acc)\n",
    "    r34_test_acc_all.append(test_acc)"
   ]
  },
  {
   "cell_type": "code",
   "execution_count": 20,
   "id": "1784a708-18d3-4528-9c68-6cf342486985",
   "metadata": {},
   "outputs": [
    {
     "name": "stderr",
     "output_type": "stream",
     "text": [
      "C:\\Users\\Vincent\\AppData\\Local\\Temp\\ipykernel_25388\\682711386.py:3: DeprecationWarning: `np.float` is a deprecated alias for the builtin `float`. To silence this warning, use `float` by itself. Doing this will not modify any behavior and is safe. If you specifically wanted the numpy scalar type, use `np.float64` here.\n",
      "Deprecated in NumPy 1.20; for more details and guidance: https://numpy.org/devdocs/release/1.20.0-notes.html#deprecations\n",
      "  data = data.astype(np.float)\n"
     ]
    }
   ],
   "source": [
    "r34_training_acc_mean = all_to_mean(r34_training_acc_all)\n",
    "r34_validation_acc_mean = all_to_mean(r34_validation_acc_all)\n",
    "r34_test_acc_mean = all_to_mean(r34_test_acc_all)"
   ]
  },
  {
   "cell_type": "code",
   "execution_count": 21,
   "id": "27f9f2b8-d46f-46b4-8fec-154156de2de7",
   "metadata": {},
   "outputs": [
    {
     "name": "stderr",
     "output_type": "stream",
     "text": [
      "C:\\Users\\Vincent\\AppData\\Local\\Temp\\ipykernel_25388\\1451314746.py:2: DeprecationWarning: `np.float` is a deprecated alias for the builtin `float`. To silence this warning, use `float` by itself. Doing this will not modify any behavior and is safe. If you specifically wanted the numpy scalar type, use `np.float64` here.\n",
      "Deprecated in NumPy 1.20; for more details and guidance: https://numpy.org/devdocs/release/1.20.0-notes.html#deprecations\n",
      "  epoch= epoch.astype(np.float)\n"
     ]
    }
   ],
   "source": [
    "epoch = np.array(epoch)\n",
    "epoch= epoch.astype(np.float)"
   ]
  },
  {
   "cell_type": "markdown",
   "id": "c5248776-ad4b-4d3b-8b5f-ac679c5e5e39",
   "metadata": {},
   "source": [
    "# FMN0.6"
   ]
  },
  {
   "cell_type": "code",
   "execution_count": 21,
   "id": "cb9b8b68-bc1b-45cb-a3a1-8ec181089f11",
   "metadata": {},
   "outputs": [],
   "source": [
    "fmn6_training_acc_all = []\n",
    "fmn6_validation_acc_all = []\n",
    "fmn6_test_acc_all = []\n",
    "for i in range(1,11):\n",
    "    file_path = f\"./FashionMINIST0.6/Version_RESNET18_train_FashionMINIST0.6_correct/Iteration_{i}/real_model_log.csv\"\n",
    "    epoch,training_acc,validation_acc,test_acc = extract_data(file_path)\n",
    "    fmn6_training_acc_all.append(training_acc)\n",
    "    fmn6_validation_acc_all.append(validation_acc)\n",
    "    fmn6_test_acc_all.append(test_acc)"
   ]
  },
  {
   "cell_type": "code",
   "execution_count": 22,
   "id": "4991e571-1385-4060-8f40-d96a62a73370",
   "metadata": {},
   "outputs": [
    {
     "name": "stderr",
     "output_type": "stream",
     "text": [
      "<ipython-input-7-b7cd73ca5b88>:3: DeprecationWarning: `np.float` is a deprecated alias for the builtin `float`. To silence this warning, use `float` by itself. Doing this will not modify any behavior and is safe. If you specifically wanted the numpy scalar type, use `np.float64` here.\n",
      "Deprecated in NumPy 1.20; for more details and guidance: https://numpy.org/devdocs/release/1.20.0-notes.html#deprecations\n",
      "  data = data.astype(np.float)\n"
     ]
    }
   ],
   "source": [
    "\n",
    "fmn6_training_acc_mean = all_to_mean(fmn6_training_acc_all)\n",
    "\n",
    "fmn6_validation_acc_mean = all_to_mean(fmn6_validation_acc_all)\n",
    "\n",
    "fmn6_test_acc_mean = all_to_mean(fmn6_test_acc_all)"
   ]
  },
  {
   "cell_type": "code",
   "execution_count": 23,
   "id": "8d725730-8e55-4166-abf9-b0105e95c796",
   "metadata": {},
   "outputs": [],
   "source": [
    "fmn6_r34_training_acc_all = []\n",
    "fmn6_r34_validation_acc_all = []\n",
    "fmn6_r34_test_acc_all = []\n",
    "for i in range(1,11):\n",
    "    file_path = f\"./FashionMINIST0.6/Version_RESNET34_train_FashionMINIST0.6_correct/Iteration_{i}/real_model_log.csv\"\n",
    "    epoch,training_acc,validation_acc,test_acc = extract_data(file_path)\n",
    "    fmn6_r34_training_acc_all.append(training_acc)\n",
    "    fmn6_r34_validation_acc_all.append(validation_acc)\n",
    "    fmn6_r34_test_acc_all.append(test_acc)"
   ]
  },
  {
   "cell_type": "code",
   "execution_count": 24,
   "id": "8187e134-cf7f-406a-8804-9d7f520279fa",
   "metadata": {},
   "outputs": [
    {
     "name": "stderr",
     "output_type": "stream",
     "text": [
      "<ipython-input-7-b7cd73ca5b88>:3: DeprecationWarning: `np.float` is a deprecated alias for the builtin `float`. To silence this warning, use `float` by itself. Doing this will not modify any behavior and is safe. If you specifically wanted the numpy scalar type, use `np.float64` here.\n",
      "Deprecated in NumPy 1.20; for more details and guidance: https://numpy.org/devdocs/release/1.20.0-notes.html#deprecations\n",
      "  data = data.astype(np.float)\n"
     ]
    }
   ],
   "source": [
    "fmn6_r34_training_acc_mean = all_to_mean(fmn6_r34_training_acc_all)\n",
    "fmn6_r34_validation_acc_mean = all_to_mean(fmn6_r34_validation_acc_all)\n",
    "fmn6_r34_test_acc_mean = all_to_mean(fmn6_r34_test_acc_all)"
   ]
  },
  {
   "cell_type": "markdown",
   "id": "15de03dc-61a6-43fa-bc80-cfc756c96175",
   "metadata": {},
   "source": [
    "# Graph"
   ]
  },
  {
   "cell_type": "code",
   "execution_count": 22,
   "id": "9ea7db53-9678-4ae9-8d9e-8d6200f2801d",
   "metadata": {},
   "outputs": [
    {
     "ename": "ValueError",
     "evalue": "'x' and 'y' must have the same size",
     "output_type": "error",
     "traceback": [
      "\u001b[1;31m---------------------------------------------------------------------------\u001b[0m",
      "\u001b[1;31mValueError\u001b[0m                                Traceback (most recent call last)",
      "Cell \u001b[1;32mIn [22], line 3\u001b[0m\n\u001b[0;32m      1\u001b[0m fig, axs \u001b[39m=\u001b[39m plt\u001b[39m.\u001b[39msubplots(\u001b[39m1\u001b[39m,\u001b[39m2\u001b[39m,figsize\u001b[39m=\u001b[39m[\u001b[39m35\u001b[39m,\u001b[39m10\u001b[39m])\n\u001b[1;32m----> 3\u001b[0m axs[\u001b[39m0\u001b[39;49m]\u001b[39m.\u001b[39;49merrorbar(epoch, test_acc_mean,label\u001b[39m=\u001b[39;49m\u001b[39m'\u001b[39;49m\u001b[39mResnet 18\u001b[39;49m\u001b[39m'\u001b[39;49m)  \u001b[39m# Plot some data on the axes.\u001b[39;00m\n\u001b[0;32m      4\u001b[0m axs[\u001b[39m0\u001b[39m]\u001b[39m.\u001b[39merrorbar(epoch, r34_test_acc_mean,label\u001b[39m=\u001b[39m\u001b[39m'\u001b[39m\u001b[39mResnet 34\u001b[39m\u001b[39m'\u001b[39m)  \u001b[39m# Plot more data on the axes...\u001b[39;00m\n\u001b[0;32m      5\u001b[0m axs[\u001b[39m0\u001b[39m]\u001b[39m.\u001b[39mfill_between(epoch, test_acc_mean \u001b[39m-\u001b[39m test_acc_mean\u001b[39m.\u001b[39mstd(), test_acc_mean \u001b[39m+\u001b[39m test_acc_mean\u001b[39m.\u001b[39mstd(), alpha\u001b[39m=\u001b[39m\u001b[39m0.2\u001b[39m)\n",
      "File \u001b[1;32mc:\\Users\\Vincent\\.conda\\envs\\pytorch\\lib\\site-packages\\matplotlib\\__init__.py:1414\u001b[0m, in \u001b[0;36m_preprocess_data.<locals>.inner\u001b[1;34m(ax, data, *args, **kwargs)\u001b[0m\n\u001b[0;32m   1411\u001b[0m \u001b[39m@functools\u001b[39m\u001b[39m.\u001b[39mwraps(func)\n\u001b[0;32m   1412\u001b[0m \u001b[39mdef\u001b[39;00m \u001b[39minner\u001b[39m(ax, \u001b[39m*\u001b[39margs, data\u001b[39m=\u001b[39m\u001b[39mNone\u001b[39;00m, \u001b[39m*\u001b[39m\u001b[39m*\u001b[39mkwargs):\n\u001b[0;32m   1413\u001b[0m     \u001b[39mif\u001b[39;00m data \u001b[39mis\u001b[39;00m \u001b[39mNone\u001b[39;00m:\n\u001b[1;32m-> 1414\u001b[0m         \u001b[39mreturn\u001b[39;00m func(ax, \u001b[39m*\u001b[39;49m\u001b[39mmap\u001b[39;49m(sanitize_sequence, args), \u001b[39m*\u001b[39;49m\u001b[39m*\u001b[39;49mkwargs)\n\u001b[0;32m   1416\u001b[0m     bound \u001b[39m=\u001b[39m new_sig\u001b[39m.\u001b[39mbind(ax, \u001b[39m*\u001b[39margs, \u001b[39m*\u001b[39m\u001b[39m*\u001b[39mkwargs)\n\u001b[0;32m   1417\u001b[0m     auto_label \u001b[39m=\u001b[39m (bound\u001b[39m.\u001b[39marguments\u001b[39m.\u001b[39mget(label_namer)\n\u001b[0;32m   1418\u001b[0m                   \u001b[39mor\u001b[39;00m bound\u001b[39m.\u001b[39mkwargs\u001b[39m.\u001b[39mget(label_namer))\n",
      "File \u001b[1;32mc:\\Users\\Vincent\\.conda\\envs\\pytorch\\lib\\site-packages\\matplotlib\\axes\\_axes.py:3335\u001b[0m, in \u001b[0;36mAxes.errorbar\u001b[1;34m(self, x, y, yerr, xerr, fmt, ecolor, elinewidth, capsize, barsabove, lolims, uplims, xlolims, xuplims, errorevery, capthick, **kwargs)\u001b[0m\n\u001b[0;32m   3333\u001b[0m x, y \u001b[39m=\u001b[39m np\u001b[39m.\u001b[39matleast_1d(x, y)  \u001b[39m# Make sure all the args are iterable.\u001b[39;00m\n\u001b[0;32m   3334\u001b[0m \u001b[39mif\u001b[39;00m \u001b[39mlen\u001b[39m(x) \u001b[39m!=\u001b[39m \u001b[39mlen\u001b[39m(y):\n\u001b[1;32m-> 3335\u001b[0m     \u001b[39mraise\u001b[39;00m \u001b[39mValueError\u001b[39;00m(\u001b[39m\"\u001b[39m\u001b[39m'\u001b[39m\u001b[39mx\u001b[39m\u001b[39m'\u001b[39m\u001b[39m and \u001b[39m\u001b[39m'\u001b[39m\u001b[39my\u001b[39m\u001b[39m'\u001b[39m\u001b[39m must have the same size\u001b[39m\u001b[39m\"\u001b[39m)\n\u001b[0;32m   3337\u001b[0m \u001b[39mif\u001b[39;00m \u001b[39misinstance\u001b[39m(errorevery, Integral):\n\u001b[0;32m   3338\u001b[0m     errorevery \u001b[39m=\u001b[39m (\u001b[39m0\u001b[39m, errorevery)\n",
      "\u001b[1;31mValueError\u001b[0m: 'x' and 'y' must have the same size"
     ]
    },
    {
     "data": {
      "image/png": "[encoded data removed]",
      "text/plain": [
       "<Figure size 3500x1000 with 2 Axes>"
      ]
     },
     "metadata": {},
     "output_type": "display_data"
    }
   ],
   "source": [
    "fig, axs = plt.subplots(1,2,figsize=[35,10])\n",
    "\n",
    "axs[0].errorbar(epoch, test_acc_mean,label='Resnet 18')  # Plot some data on the axes.\n",
    "axs[0].errorbar(epoch, r34_test_acc_mean,label='Resnet 34')  # Plot more data on the axes...\n",
    "axs[0].fill_between(epoch, test_acc_mean - test_acc_mean.std(), test_acc_mean + test_acc_mean.std(), alpha=0.2)\n",
    "axs[0].fill_between(epoch, r34_test_acc_mean - r34_test_acc_mean.std(), r34_test_acc_mean + r34_test_acc_mean.std(), alpha=0.2)\n",
    "axs[0].set_ylabel('Accuracys(%)',fontsize=30)\n",
    "axs[0].set_xlabel('Epochs', fontsize=30)\n",
    "axs[0].set_title(\"FMN0.5 Testing accuracy With given transition matrix\",fontsize=30)  # Add a title to the axes.\n",
    "axs[0].tick_params(axis='y', labelsize=25)\n",
    "axs[0].tick_params(axis='x', labelsize=25)\n",
    "axs[0].legend(prop={'size':25});  # Add a legend.\n",
    "\n",
    "axs[1].errorbar(epoch, fmn6_test_acc_mean,label='Resnet 18')  # Plot some data on the axes.\n",
    "axs[1].errorbar(epoch, fmn6_r34_test_acc_mean,label='Resnet 34')  # Plot more data on the axes...\n",
    "axs[1].fill_between(epoch, fmn6_test_acc_mean - fmn6_test_acc_mean.std(), fmn6_test_acc_mean + fmn6_test_acc_mean.std(), alpha=0.2)\n",
    "axs[1].fill_between(epoch, fmn6_r34_test_acc_mean - fmn6_r34_test_acc_mean.std(), fmn6_r34_test_acc_mean + fmn6_r34_test_acc_mean.std(), alpha=0.2)\n",
    "axs[1].set_ylabel('Accuracys(%)',fontsize=30)\n",
    "axs[1].set_xlabel('Epochs', fontsize=30)\n",
    "axs[1].set_title(\"FMN0.6 Testing accuracy With given transition matrix\",fontsize=30)  # Add a title to the axes.\n",
    "axs[1].tick_params(axis='y', labelsize=25)\n",
    "axs[1].tick_params(axis='x', labelsize=25)\n",
    "axs[1].legend(prop={'size':25});  # Add a legend."
   ]
  },
  {
   "cell_type": "code",
   "execution_count": null,
   "id": "c22c3118-5b3e-48cc-9967-8dc7ad82755b",
   "metadata": {},
   "outputs": [],
   "source": []
  }
 ],
 "metadata": {
  "kernelspec": {
   "display_name": "Python 3.8.5 ('pytorch')",
   "language": "python",
   "name": "python3"
  },
  "language_info": {
   "codemirror_mode": {
    "name": "ipython",
    "version": 3
   },
   "file_extension": ".py",
   "mimetype": "text/x-python",
   "name": "python",
   "nbconvert_exporter": "python",
   "pygments_lexer": "ipython3",
   "version": "3.8.5 (default, Sep  3 2020, 21:29:08) [MSC v.1916 64 bit (AMD64)]"
  },
  "vscode": {
   "interpreter": {
    "hash": "ee67d75d768054f72ab22cf9c99d0c3630ee6a383523835b9173400566bc6ca8"
   }
  }
 },
 "nbformat": 4,
 "nbformat_minor": 5
}
