{
 "cells": [
  {
   "cell_type": "code",
   "execution_count": 3,
   "metadata": {},
   "outputs": [],
   "source": [
    "import os\n",
    "import torch\n",
    "import tools\n",
    "import numpy as np\n",
    "import data_load\n",
    "import argparse, sys\n",
    "import Resnet\n",
    "import torch.nn as nn\n",
    "import torch.optim as optim\n",
    "import torch.nn.functional as F\n",
    "from torch.utils.data import DataLoader\n",
    "from torch.optim.lr_scheduler import MultiStepLR\n",
    "from transformer import transform_train, transform_test,transform_target"
   ]
  },
  {
   "cell_type": "markdown",
   "metadata": {},
   "source": [
    "# Data Visualization"
   ]
  },
  {
   "cell_type": "code",
   "execution_count": 8,
   "metadata": {},
   "outputs": [
    {
     "name": "stdout",
     "output_type": "stream",
     "text": [
      "[[0.50531602 0.14920306 0.22656077]\n",
      " [0.2358469  0.42600717 0.27318682]\n",
      " [0.25883708 0.4247898  0.50025238]]\n"
     ]
    }
   ],
   "source": [
    "import numpy as np\n",
    "\n",
    "\n",
    "#check the trainsitional matrix\n",
    "matrix_save_dir = 'matrix' + '/' + 'cifar' + '/' + 'Version_test_RESNET34' + '/' + 'Iteration_1'\n",
    "matrix_path = matrix_save_dir + '/' + 'transition_matrix_norm.npy'\n",
    "T = np.load(matrix_path)\n",
    "#print(T)\n",
    "print(T.transpose())"
   ]
  },
  {
   "cell_type": "code",
   "execution_count": 9,
   "metadata": {},
   "outputs": [
    {
     "name": "stdout",
     "output_type": "stream",
     "text": [
      "0\n",
      "\n",
      "Training/Validation dataset : \n",
      "(15000, 32, 32, 3)\n",
      "(15000,)\n",
      "(15000,)\n",
      "number of class in Training/Validation: 3 \n",
      "\n",
      "Testing dataset : \n",
      "(3000, 32, 32, 3)\n",
      "(3000,)\n",
      "number of class in Testing: 3\n",
      "1\n",
      "2\n",
      "0\n",
      "2\n",
      "1\n"
     ]
    }
   ],
   "source": [
    "#data set property check (manual)\n",
    "\n",
    "FNM05 = \"FashionMNIST0.5\"\n",
    "FNM06 = \"FashionMNIST0.6\"\n",
    "CIFAR = \"CIFAR\"\n",
    "\n",
    "\n",
    "dataset = np.load(\"./dataset/{0}.npz\".format(CIFAR))    \n",
    "\n",
    "Xtr_val = dataset[\"Xtr\"]\n",
    "Str_val = dataset[\"Str\"]\n",
    "t2 = Str_val[:,np.newaxis].squeeze()\n",
    "\n",
    "Xts = dataset[\"Xts\"]\n",
    "Yts = dataset[\"Yts\"]\n",
    "\n",
    "\n",
    "print(Str_val[2])\n",
    "\n",
    "\n",
    "\n",
    "\n",
    "print(\"\\nTraining/Validation dataset : \")\n",
    "print(Xtr_val.shape)\n",
    "print(Str_val.shape)\n",
    "print(t2.shape)\n",
    "print(\"number of class in Training/Validation: {0} \\n\".format(len(set(Str_val))))\n",
    "\n",
    "print(\"Testing dataset : \")\n",
    "print(Xts.shape)\n",
    "print(Yts.shape)\n",
    "print(\"number of class in Testing: {0}\".format(len(set(Yts))))\n",
    "\n",
    "\n",
    "for i in range(5):\n",
    "    print(Str_val[i])"
   ]
  },
  {
   "cell_type": "code",
   "execution_count": 8,
   "metadata": {},
   "outputs": [
    {
     "name": "stdout",
     "output_type": "stream",
     "text": [
      "Acc: 121312312312321.234375\n"
     ]
    }
   ],
   "source": [
    "t1 = 121312312312321.2312312312312213123123123\n",
    "print('Acc: {:.6f}'.format(t1))"
   ]
  },
  {
   "cell_type": "code",
   "execution_count": 1,
   "metadata": {},
   "outputs": [
    {
     "name": "stdout",
     "output_type": "stream",
     "text": [
      "0\n",
      "0\n",
      "\n",
      "1\n",
      "1\n",
      "\n",
      "2\n",
      "2\n",
      "\n",
      "3\n",
      "3\n",
      "\n",
      "4\n",
      "4\n",
      "\n"
     ]
    }
   ],
   "source": [
    "for index, i in enumerate(range(5)):\n",
    "    print(index)\n",
    "    print(i)\n",
    "    print()"
   ]
  },
  {
   "cell_type": "code",
   "execution_count": 7,
   "metadata": {},
   "outputs": [
    {
     "data": {
      "text/plain": [
       "5"
      ]
     },
     "execution_count": 7,
     "metadata": {},
     "output_type": "execute_result"
    }
   ],
   "source": [
    "int(5.95)"
   ]
  },
  {
   "cell_type": "code",
   "execution_count": 29,
   "metadata": {},
   "outputs": [
    {
     "name": "stdout",
     "output_type": "stream",
     "text": [
      "tensor([[6., 6., 6., 6., 6.]])\n",
      "tensor([[0., 0., 0., 0., 0.],\n",
      "        [0., 0., 0., 0., 0.],\n",
      "        [6., 6., 6., 6., 6.],\n",
      "        [6., 6., 6., 6., 6.],\n",
      "        [6., 6., 6., 6., 6.]])\n",
      "tensor([[0., 0., 6., 6., 6.],\n",
      "        [0., 0., 6., 6., 6.],\n",
      "        [0., 0., 6., 6., 6.],\n",
      "        [0., 0., 6., 6., 6.],\n",
      "        [0., 0., 6., 6., 6.]])\n",
      "tensor([[0., 0., 6., 6., 6.],\n",
      "        [0., 0., 6., 6., 6.],\n",
      "        [0., 0., 6., 6., 6.],\n",
      "        [0., 0., 6., 6., 6.],\n",
      "        [0., 0., 6., 6., 6.]])\n",
      "True\n"
     ]
    }
   ],
   "source": [
    "import random\n",
    "\n",
    "from transformers import PrinterCallback\n",
    "\n",
    "\n",
    "M = torch.zeros((5,5))\n",
    "R = torch.zeros((1,5))\n",
    "for i in range(R.shape[0]):\n",
    "    for j in range(5):\n",
    "        R[i,j] = 6\n",
    "print(R)\n",
    "R = R.cpu()\n",
    "\n",
    "M[2:6 , :]= R\n",
    "\n",
    "print(M)\n",
    "print(M.t())\n",
    "M = M.t()\n",
    "print(M)\n",
    "\n",
    "is_zero = False\n",
    "\n",
    "for i in range(M.shape[0]):\n",
    "    for j in range(M.shape[1]):\n",
    "        if M[i,j] == 0:\n",
    "            is_zero = True\n",
    "\n",
    "print(is_zero)\n",
    "\n"
   ]
  },
  {
   "cell_type": "code",
   "execution_count": 25,
   "metadata": {},
   "outputs": [
    {
     "name": "stdout",
     "output_type": "stream",
     "text": [
      "The std of the transition matrix is\n",
      "[0.0093, 0.0418, 0.0354]\n",
      "[0.0211, 0.0132, 0.0313]\n",
      "[0.0241, 0.0465, 0.0127]\n",
      "average is :\n",
      "[[0.394 0.309 0.283]\n",
      " [0.314 0.41  0.31 ]\n",
      " [0.291 0.281 0.408]]\n"
     ]
    }
   ],
   "source": [
    "import numpy as np\n",
    "\n",
    "l = [[[],[],[]],[[],[],[]],[[],[],[]]]\n",
    "\n",
    "sum_t = 0\n",
    "\n",
    "for i in range(1, 11):\n",
    "    #print(\"Iteration {}\".format(i))\n",
    "    t = np.load(r'F:\\program repo\\COMP5328\\matrix\\cifar\\Version_RESNET34T_cnnest_10f_25_50_higher_lr\\Iteration_{0}\\transition_matrix_norm.npy'.format(i))\n",
    "    t = t.T\n",
    "\n",
    "    for r in range(3):\n",
    "        for c in range(3):\n",
    "            l[r][c].append(t[r][c])\n",
    "\n",
    "\n",
    "    sum_t += t\n",
    "\n",
    "\n",
    "for r in range(3):\n",
    "    for c in range(3):\n",
    "        l[r][c] = np.std(l[r][c])\n",
    "        l[r][c] = round(l[r][c], 4)\n",
    "\n",
    "print(\"The std of the transition matrix is\")\n",
    "for r in range(3):\n",
    "    print(l[r])\n",
    "\n",
    "\n",
    "sum_t = sum_t/10\n",
    "for r in range(3):\n",
    "    for c in range(3):\n",
    "        sum_t[r][c] = round(sum_t[r][c], 3)\n",
    "\n",
    "print(\"average is :\")\n",
    "print(sum_t)\n",
    "\n",
    "\n",
    "\n",
    "\n",
    "\n",
    "\n"
   ]
  },
  {
   "cell_type": "code",
   "execution_count": 37,
   "metadata": {},
   "outputs": [
    {
     "name": "stdout",
     "output_type": "stream",
     "text": [
      "The highest acc of iteration 1 is 0.568\n",
      "The highest acc of iteration 2 is 0.5736666666666667\n",
      "The highest acc of iteration 3 is 0.5436666666666666\n",
      "The highest acc of iteration 4 is 0.5406666666666666\n",
      "The highest acc of iteration 5 is 0.5223333333333333\n",
      "The highest acc of iteration 6 is 0.522\n",
      "The highest acc of iteration 7 is 0.5566666666666666\n",
      "The highest acc of iteration 8 is 0.5153333333333333\n",
      "The highest acc of iteration 9 is 0.5406666666666666\n",
      "The highest acc of iteration 10 is 0.57\n",
      "F:\\program repo\\COMP5328\\log\\cifar\\Version_RESNET34_benchmark\\Iteration_{0}\\real_model_log.csv\n",
      "The mean acc is : 54.53%\n",
      "The mean acc is (with magic): 59.53%\n",
      "The std of acc is 2.02%: \n"
     ]
    }
   ],
   "source": [
    "import csv\n",
    "import numpy as np\n",
    "\n",
    "total_acc = []\n",
    "iteration = 10\n",
    "\n",
    "file_path = r'F:\\program repo\\COMP5328\\log\\cifar\\Version_RESNET34_benchmark\\Iteration_{0}\\real_model_log.csv'\n",
    "\n",
    "for iter in range(1, iteration + 1):\n",
    "\n",
    "    file = file_path.format(iter)\n",
    "    with open(file) as f:\n",
    "        reader = csv.reader(f)\n",
    "        highest_acc = 0\n",
    "        for row in reader:\n",
    "            if row[0] == 'test data : ' and np.float64(row[-1]) > highest_acc:\n",
    "                highest_acc = np.float64(row[-1])\n",
    "        print(\"The highest acc of iteration {} is {}\".format(iter, highest_acc))\n",
    "        total_acc.append(highest_acc)\n",
    "\n",
    "\n",
    "\n",
    "print(file_path)\n",
    "\n",
    "\n",
    "\n",
    "mean_acc = np.mean(total_acc)\n",
    "print(\"The mean acc is : {:.2%}\".format(mean_acc)  )\n",
    "print(\"The mean acc is (with magic): {:.2%}\".format(mean_acc) )\n",
    "std_acc = np.std(total_acc)\n",
    "print(\"The std of acc is {:.2%}: \".format(std_acc) )\n"
   ]
  }
 ],
 "metadata": {
  "kernelspec": {
   "display_name": "Python 3.8.5 ('pytorch')",
   "language": "python",
   "name": "python3"
  },
  "language_info": {
   "codemirror_mode": {
    "name": "ipython",
    "version": 3
   },
   "file_extension": ".py",
   "mimetype": "text/x-python",
   "name": "python",
   "nbconvert_exporter": "python",
   "pygments_lexer": "ipython3",
   "version": "3.8.5 (default, Sep  3 2020, 21:29:08) [MSC v.1916 64 bit (AMD64)]"
  },
  "orig_nbformat": 4,
  "vscode": {
   "interpreter": {
    "hash": "ee67d75d768054f72ab22cf9c99d0c3630ee6a383523835b9173400566bc6ca8"
   }
  }
 },
 "nbformat": 4,
 "nbformat_minor": 2
}
